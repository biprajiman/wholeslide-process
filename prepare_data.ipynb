{
 "cells": [
  {
   "cell_type": "code",
   "execution_count": 4,
   "metadata": {
    "collapsed": false,
    "deletable": true,
    "editable": true
   },
   "outputs": [],
   "source": [
    "# Adding local Keras\n",
    "import sys\n",
    "import os\n",
    "import numpy as np\n",
    "from skimage import io\n",
    "import itertools\n",
    "from IPython.core.debugger import Tracer\n",
    "%matplotlib inline\n",
    "import matplotlib.pyplot as plt\n",
    "KERAS_PATH = '/media/manish/Data/keras-master/'\n",
    "sys.path.insert(0, KERAS_PATH)\n",
    "sys.path.insert(0, os.path.join(KERAS_PATH, 'keras'))\n",
    "sys.path.insert(0, os.path.join(KERAS_PATH, 'keras', 'layers'))\n",
    "from keras.preprocessing.image import ImageDataGenerator"
   ]
  },
  {
   "cell_type": "code",
   "execution_count": 9,
   "metadata": {
    "collapsed": false,
    "deletable": true,
    "editable": true
   },
   "outputs": [
    {
     "name": "stdout",
     "output_type": "stream",
     "text": [
      "Found 108755 images belonging to 5 classes.\n",
      "Found 108755 images belonging to 5 classes.\n",
      "Found 1600 images belonging to 3 classes.\n",
      "Found 1600 images belonging to 3 classes.\n",
      "> \u001b[1;32m<ipython-input-9-4fbcd0c3968c>\u001b[0m(14)\u001b[0;36mimerge\u001b[1;34m()\u001b[0m\n",
      "\u001b[1;32m     13 \u001b[1;33m            \u001b[1;31m# weight\u001b[0m\u001b[1;33m\u001b[0m\u001b[1;33m\u001b[0m\u001b[0m\n",
      "\u001b[0m\u001b[1;32m---> 14 \u001b[1;33m            \u001b[0mmask\u001b[0m \u001b[1;33m=\u001b[0m \u001b[0mnp\u001b[0m\u001b[1;33m.\u001b[0m\u001b[0mexpand_dims\u001b[0m\u001b[1;33m(\u001b[0m\u001b[0mmask\u001b[0m\u001b[1;33m[\u001b[0m\u001b[1;33m:\u001b[0m\u001b[1;33m,\u001b[0m\u001b[1;33m:\u001b[0m\u001b[1;33m,\u001b[0m\u001b[1;33m:\u001b[0m\u001b[1;33m,\u001b[0m\u001b[1;36m0\u001b[0m\u001b[1;33m]\u001b[0m\u001b[1;33m,\u001b[0m \u001b[0maxis\u001b[0m\u001b[1;33m=\u001b[0m\u001b[1;36m3\u001b[0m\u001b[1;33m)\u001b[0m\u001b[1;33m\u001b[0m\u001b[0m\n",
      "\u001b[0m\u001b[1;32m     15 \u001b[1;33m\u001b[1;31m#             for img in mask:\u001b[0m\u001b[1;33m\u001b[0m\u001b[1;33m\u001b[0m\u001b[0m\n",
      "\u001b[0m\n",
      "ipdb> plt.figure()\n",
      "<matplotlib.figure.Figure object at 0x7fe17fa9a3d0>\n",
      "ipdb> plt.show(mask[0,:,:,1])\n"
     ]
    },
    {
     "data": {
      "text/plain": [
       "<matplotlib.figure.Figure at 0x7fe17fa9a3d0>"
      ]
     },
     "metadata": {},
     "output_type": "display_data"
    },
    {
     "name": "stdout",
     "output_type": "stream",
     "text": [
      "*** ValueError: The truth value of an array with more than one element is ambiguous. Use a.any() or a.all()\n",
      "ipdb> plt.show(np.squeeze(mask[0,:,:,:])\n",
      "*** SyntaxError: unexpected EOF while parsing (<stdin>, line 1)\n",
      "ipdb> plt.show(np.squeeze(mask[0,:,:,:]))\n"
     ]
    },
    {
     "data": {
      "text/plain": [
       "<matplotlib.figure.Figure at 0x7fe17fa9a3d0>"
      ]
     },
     "metadata": {},
     "output_type": "display_data"
    },
    {
     "name": "stdout",
     "output_type": "stream",
     "text": [
      "*** ValueError: The truth value of an array with more than one element is ambiguous. Use a.any() or a.all()\n",
      "ipdb> mask.any()\n",
      "True\n",
      "ipdb> plt.show(mask.any())\n"
     ]
    },
    {
     "data": {
      "text/plain": [
       "<matplotlib.figure.Figure at 0x7fe17fa9a3d0>"
      ]
     },
     "metadata": {},
     "output_type": "display_data"
    },
    {
     "name": "stdout",
     "output_type": "stream",
     "text": [
      "ipdb> mask.shape\n",
      "(5, 512, 512, 3)\n",
      "ipdb> mask[0,:,:,1]\n",
      "array([[  44.,   44.,   44., ...,  155.,  155.,  155.],\n",
      "       [  44.,   44.,   44., ...,  155.,  155.,  155.],\n",
      "       [  44.,   44.,   44., ...,  155.,  155.,  155.],\n",
      "       ..., \n",
      "       [  44.,   44.,   44., ...,  155.,  155.,  155.],\n",
      "       [  44.,   44.,   44., ...,  155.,  155.,  155.],\n",
      "       [  44.,   44.,   44., ...,  155.,  155.,  155.]], dtype=float32)\n",
      "ipdb> mask_labels\n",
      "array([4, 3, 4, 4, 3], dtype=int32)\n",
      "ipdb> c\n",
      "Shape of the mask_labels: [4 3 4 4 3]\n",
      "Shape of the label mask: (5, 512, 512, 1)\n"
     ]
    }
   ],
   "source": [
    "\"\"\"\n",
    "data_weighted_loader consider the label for specific treatments\n",
    "\"\"\"\n",
    "def data_weighted_loader(path, batch_size, ignore_val=44, pos_val=255, neg_val=155, pos_class=3, neg_class=4):\n",
    "    # pos_class and neg_class in the folder name for keras ImageDataGenerator input\n",
    "    # 0,1,2 is for previous data. 3 and 4 is for new tcga data, which needs specific treatment\n",
    "\n",
    "    def imerge(img_gen, mask_gen):\n",
    "        \n",
    "        for (img, img_labels), (mask, mask_labels) in itertools.izip(img_gen, mask_gen):\n",
    "            Tracer()()\n",
    "            \n",
    "            # weight\n",
    "            mask = np.expand_dims(mask[:,:,:,0], axis=3)\n",
    "#             for img in mask:\n",
    "#                 plt.figure()\n",
    "#                 plt.imshow(img)\n",
    "            print(\"Shape of the mask_labels: %s\" % str(mask_labels))\n",
    "            print(\"Shape of the label mask: %s\" % str(mask.shape))\n",
    "            \n",
    "            weight = np.ones(mask.shape, np.float)\n",
    "            weight[mask==ignore_val] = 0\n",
    "            # In mask, ignored pixel has value ignore_val.\n",
    "            # The weight of these pixel is set to zero, so they do not contribute to loss\n",
    "            # The returned mask is still binary.\n",
    "\n",
    "            # compute per sample\n",
    "            for c, mask_label in enumerate(mask_labels):\n",
    "                assert(mask_labels[c] == img_labels[c])\n",
    "                mask_sample = mask[c]\n",
    "                if mask_label == pos_class:\n",
    "                    assert(np.where(mask_sample == neg_val)[0].size == 0)\n",
    "                    mask_sample[mask_sample==pos_val] = 1\n",
    "                elif mask_label == neg_class:\n",
    "                    assert(np.where(mask_sample == pos_val)[0].size == 0)\n",
    "                    mask_sample[mask_sample==neg_val] = 0\n",
    "                else:\n",
    "                \tmask_sample /= 255\n",
    "\n",
    "                mask_sample[mask_sample==ignore_val] = 0\n",
    "\n",
    "            assert set(np.unique(mask)).issubset([0, 1])\n",
    "            assert set(np.unique(weight)).issubset([0, 1])\n",
    "\n",
    "            yield img/255.0, mask, weight, img_labels\n",
    "            # yield norm_mean_img(img), mask, weight, img_labels\n",
    "\n",
    "    train_data_gen_args = dict(\n",
    "                    horizontal_flip=True,\n",
    "                    vertical_flip=True,\n",
    "                    zoom_range=0.1,\n",
    "                    fill_mode='reflect')\n",
    "\n",
    "    seed = 1234\n",
    "    train_image_datagen = ImageDataGenerator(**train_data_gen_args).flow_from_directory(\n",
    "                                path+'train/img',\n",
    "                                class_mode=\"sparse\",\n",
    "                                target_size=(512, 512),\n",
    "                                batch_size=batch_size,\n",
    "                                seed=seed)\n",
    "    train_mask_datagen = ImageDataGenerator(**train_data_gen_args).flow_from_directory(\n",
    "                                path+'train/groundtruth',\n",
    "                                class_mode=\"sparse\",\n",
    "                                target_size=(512, 512),\n",
    "                                batch_size=batch_size,\n",
    "                                seed=seed)\n",
    "\n",
    "    test_image_datagen = ImageDataGenerator().flow_from_directory(\n",
    "                                path+'val/img',\n",
    "                                class_mode=\"sparse\",\n",
    "                                target_size=(512, 512),\n",
    "                                batch_size=batch_size,\n",
    "                                seed=seed)\n",
    "    test_mask_datagen = ImageDataGenerator().flow_from_directory(\n",
    "                                path+'val/groundtruth',\n",
    "                                class_mode=\"sparse\",\n",
    "                                target_size=(512, 512),\n",
    "                                batch_size=batch_size,\n",
    "                                seed=seed)\n",
    "\n",
    "    train_generator = imerge(train_image_datagen, train_mask_datagen)\n",
    "    test_generator = imerge(test_image_datagen, test_mask_datagen)\n",
    "\n",
    "    return train_generator, test_generator\n",
    "\n",
    "training_dir = './data/BladderData/Segmentation/'\n",
    "batch_size = 5\n",
    "train_generator, _ = data_weighted_loader(training_dir, batch_size)\n",
    "x_batch, y_batch, weight, _ = train_generator.next()h"
   ]
  },
  {
   "cell_type": "code",
   "execution_count": null,
   "metadata": {
    "collapsed": true,
    "deletable": true,
    "editable": true
   },
   "outputs": [],
   "source": [
    "# Read the json file and whole slides and pick random points from annotation to crop the patch\n",
    "# put positive patch in 1 folder and negative patch in 0 folder\n"
   ]
  }
 ],
 "metadata": {
  "kernelspec": {
   "display_name": "Python 2",
   "language": "python",
   "name": "python2"
  },
  "language_info": {
   "codemirror_mode": {
    "name": "ipython",
    "version": 2
   },
   "file_extension": ".py",
   "mimetype": "text/x-python",
   "name": "python",
   "nbconvert_exporter": "python",
   "pygments_lexer": "ipython2",
   "version": "2.7.11"
  }
 },
 "nbformat": 4,
 "nbformat_minor": 0
}
